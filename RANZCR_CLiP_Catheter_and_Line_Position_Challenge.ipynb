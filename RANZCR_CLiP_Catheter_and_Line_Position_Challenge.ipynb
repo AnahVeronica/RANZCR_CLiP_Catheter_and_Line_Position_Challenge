{
  "nbformat": 4,
  "nbformat_minor": 0,
  "metadata": {
    "colab": {
      "name": "RANZCR CLiP - Catheter and Line Position Challenge.ipynb",
      "provenance": [],
      "collapsed_sections": [],
      "toc_visible": true,
      "authorship_tag": "ABX9TyNl9xJCjy8cpzfhVzFJAPq/",
      "include_colab_link": true
    },
    "kernelspec": {
      "display_name": "Python 3",
      "name": "python3"
    }
  },
  "cells": [
    {
      "cell_type": "markdown",
      "metadata": {
        "id": "view-in-github",
        "colab_type": "text"
      },
      "source": [
        "<a href=\"https://colab.research.google.com/github/AnahVeronica/RANZCR_CLiP_Catheter_and_Line_Position_Challenge/blob/main/RANZCR_CLiP_Catheter_and_Line_Position_Challenge.ipynb\" target=\"_parent\"><img src=\"https://colab.research.google.com/assets/colab-badge.svg\" alt=\"Open In Colab\"/></a>"
      ]
    },
    {
      "cell_type": "markdown",
      "metadata": {
        "id": "Vec9RFC4yT_x"
      },
      "source": [
        "# Import necessary files"
      ]
    },
    {
      "cell_type": "code",
      "metadata": {
        "colab": {
          "base_uri": "https://localhost:8080/"
        },
        "id": "jLzUbWi2br3M",
        "outputId": "af1349b0-700b-4a8f-f135-2574cfb8a272"
      },
      "source": [
        "#Mount drive to access train and test tfrecords\r\n",
        "\r\n",
        "from google.colab import drive\r\n",
        "drive.mount('/content/drive')"
      ],
      "execution_count": 1,
      "outputs": [
        {
          "output_type": "stream",
          "text": [
            "Drive already mounted at /content/drive; to attempt to forcibly remount, call drive.mount(\"/content/drive\", force_remount=True).\n"
          ],
          "name": "stdout"
        }
      ]
    },
    {
      "cell_type": "code",
      "metadata": {
        "id": "pfqYz_HDtXdv"
      },
      "source": [
        "import numpy as np\r\n",
        "import pandas as pd\r\n",
        "import matplotlib.pyplot as plt\r\n",
        "import os\r\n",
        "import io\r\n",
        "from PIL import Image\r\n",
        "import tensorflow as tf\r\n",
        "from IPython import display\r\n",
        "import cv2 as cv"
      ],
      "execution_count": 2,
      "outputs": []
    },
    {
      "cell_type": "code",
      "metadata": {
        "id": "2s5SSnRvveTg"
      },
      "source": [
        "from tensorflow.keras.models import Sequential, Model\r\n",
        "from tensorflow.keras.layers import Dense, Dropout, Flatten, Activation\r\n",
        "from tensorflow.keras.layers import Conv2D, MaxPooling2D\r\n",
        "from tensorflow.keras.optimizers import Adam, SGD\r\n"
      ],
      "execution_count": 3,
      "outputs": []
    },
    {
      "cell_type": "markdown",
      "metadata": {
        "id": "PatPjHyqgK5u"
      },
      "source": [
        "# Step 1: Get dataset from directory"
      ]
    },
    {
      "cell_type": "code",
      "metadata": {
        "id": "6LRxyy-Rgago"
      },
      "source": [
        "Train_folder_path = '/content/drive/MyDrive/train_tfrecords'"
      ],
      "execution_count": 4,
      "outputs": []
    },
    {
      "cell_type": "code",
      "metadata": {
        "id": "tIndK2MyggLY"
      },
      "source": [
        "TFRecord_filenames = []"
      ],
      "execution_count": 5,
      "outputs": []
    },
    {
      "cell_type": "code",
      "metadata": {
        "id": "63VedF8ogms9"
      },
      "source": [
        "for dirpath, dirnames, files in os.walk(Train_folder_path):\r\n",
        "  for filename in files:\r\n",
        "    TFRecord_filenames.append(os.path.join(dirpath, filename))\r\n",
        "\r\n"
      ],
      "execution_count": 6,
      "outputs": []
    },
    {
      "cell_type": "code",
      "metadata": {
        "id": "jNkBDt9fmsIK"
      },
      "source": [
        "dataset_size = 30083\r\n",
        "\r\n",
        "train_size = int(0.8 * dataset_size)\r\n",
        "val_size = int(0.2 * dataset_size)\r\n",
        "\r\n",
        "# Create a training and a validation datasets\r\n",
        "full_dataset = tf.data.TFRecordDataset(TFRecord_filenames)\r\n",
        "full_dataset = full_dataset.shuffle(buffer_size=1000)\r\n",
        "train_dataset = full_dataset.take(train_size) #.cache()\r\n",
        "val_dataset = full_dataset.skip(train_size).take(val_size)"
      ],
      "execution_count": 7,
      "outputs": []
    },
    {
      "cell_type": "markdown",
      "metadata": {
        "id": "l990QXUUydha"
      },
      "source": [
        "#Step 2:Write functions to parse tfrecord"
      ]
    },
    {
      "cell_type": "code",
      "metadata": {
        "id": "0sZvhWrp_nSy"
      },
      "source": [
        "feature_dictionary = {\r\n",
        "    'CVC - Abnormal': tf.io.FixedLenFeature([], tf.int64),\r\n",
        "    'CVC - Borderline': tf.io.FixedLenFeature([], tf.int64),\r\n",
        "    'CVC - Normal': tf.io.FixedLenFeature([], tf.int64),\r\n",
        "    'ETT - Abnormal': tf.io.FixedLenFeature([], tf.int64),\r\n",
        "    'ETT - Borderline': tf.io.FixedLenFeature([], tf.int64),\r\n",
        "    'ETT - Normal': tf.io.FixedLenFeature([], tf.int64),\r\n",
        "    'NGT - Abnormal': tf.io.FixedLenFeature([], tf.int64),\r\n",
        "    'NGT - Borderline': tf.io.FixedLenFeature([], tf.int64),\r\n",
        "    'NGT - Incompletely Imaged': tf.io.FixedLenFeature([], tf.int64),\r\n",
        "    'NGT - Normal': tf.io.FixedLenFeature([], tf.int64),\r\n",
        "    'StudyInstanceUID': tf.io.FixedLenFeature([], tf.string),    \r\n",
        "    'Swan Ganz Catheter Present': tf.io.FixedLenFeature([], tf.int64),\r\n",
        "    'image': tf.io.FixedLenFeature([], tf.string),\r\n",
        "}"
      ],
      "execution_count": 8,
      "outputs": []
    },
    {
      "cell_type": "code",
      "metadata": {
        "id": "vmhELACT_4vb"
      },
      "source": [
        "target_size_dim = 300\r\n",
        "# Define two parsing functions that will turn the TFRecord back into an array and a label        \r\n",
        "def _parse_function(example, feature_dictionary=feature_dictionary):\r\n",
        "    # Parse the input `tf.train.Example` proto using the feature_dictionary.\r\n",
        "    # Create a description of the features.\r\n",
        "    parsed_example = tf.io.parse_example(example, feature_dictionary)\r\n",
        "\r\n",
        "    CVC_Abnormal = tf.cast(parsed_example['CVC - Abnormal'], tf.int64)\r\n",
        "    CVC_Borderline = tf.cast(parsed_example['CVC - Borderline'], tf.int64)\r\n",
        "    CVC_Normal = tf.cast(parsed_example['CVC - Normal'], tf.int64)\r\n",
        "    ETT_Abnormal = tf.cast(parsed_example['ETT - Abnormal'], tf.int64)\r\n",
        "    ETT_Borderline = tf.cast(parsed_example['ETT - Borderline'], tf.int64)\r\n",
        "    ETT_Normal = tf.cast(parsed_example['ETT - Normal'], tf.int64)\r\n",
        "    NGT_Abnormal = tf.cast(parsed_example['NGT - Abnormal'], tf.int64)\r\n",
        "    NGT_Borderline = tf.cast(parsed_example['NGT - Borderline'], tf.int64)\r\n",
        "    NGT_Incompletely_Imaged = tf.cast(parsed_example['NGT - Incompletely Imaged'], tf.int64)\r\n",
        "    NGT_Normal = tf.cast(parsed_example['NGT - Normal'], tf.int64)\r\n",
        "    #Image = tf.cast(parsed_example['image'], tf.string)\r\n",
        "\r\n",
        "\r\n",
        "    features =  tf.io.decode_image(parsed_example['image'], expand_animations = False)\r\n",
        "    features =  tf.image.grayscale_to_rgb(features)\r\n",
        "    features =  tf.image.resize(features,size=(target_size_dim, target_size_dim))\r\n",
        "    #features = features/255\r\n",
        "    #features = features - tf.math.reduce_mean(features, axis= 0)\r\n",
        "\r\n",
        "    labels = [CVC_Abnormal, CVC_Borderline, CVC_Normal, ETT_Abnormal, ETT_Borderline, ETT_Normal, NGT_Abnormal, NGT_Borderline, NGT_Incompletely_Imaged, NGT_Normal]\r\n",
        "    return features, labels\r\n",
        "\r\n"
      ],
      "execution_count": 9,
      "outputs": []
    },
    {
      "cell_type": "code",
      "metadata": {
        "id": "Ug-SXA6gJvZA"
      },
      "source": [
        "def _clahe_preprocess(image, labels):\r\n",
        "  clahe = cv.createCLAHE(clipLimit=15.0, tileGridSize=(8,8))\r\n",
        "  img = image.numpy()\r\n",
        "  img = np.uint8(img)\r\n",
        "  lab = cv.cvtColor(img, cv.COLOR_BGR2LAB)\r\n",
        "  lab_planes = cv.split(lab)\r\n",
        "  lab_planes[0] = clahe.apply(lab_planes[0])\r\n",
        "  lab = cv.merge(lab_planes)\r\n",
        "  img = cv.cvtColor(lab, cv.COLOR_LAB2BGR)\r\n",
        "\r\n",
        "  img = img/255\r\n",
        "  img -= np.mean(img)\r\n",
        "  return img, labels"
      ],
      "execution_count": 10,
      "outputs": []
    },
    {
      "cell_type": "markdown",
      "metadata": {
        "id": "8DlOW6g4yvC0"
      },
      "source": [
        "#Step 3: Create a data loader"
      ]
    },
    {
      "cell_type": "code",
      "metadata": {
        "id": "qGms5M5gzBc8"
      },
      "source": [
        "def data_loader(train_data):\r\n",
        "  dataset = train_data.map(_parse_function)\r\n",
        "  dataset = dataset.map(lambda image,label: tf.py_function(func=_clahe_preprocess,\r\n",
        "                                                      inp=[image,label],\r\n",
        "                                                      Tout=[np.float32,tf.int64]))\r\n",
        "  return dataset"
      ],
      "execution_count": 11,
      "outputs": []
    },
    {
      "cell_type": "markdown",
      "metadata": {
        "id": "GqU48qMbX8yk"
      },
      "source": [
        "# Load data and view image"
      ]
    },
    {
      "cell_type": "code",
      "metadata": {
        "id": "aiYoLUYy25Kj"
      },
      "source": [
        "def get_dataset(filenames):\r\n",
        "    dataset = data_loader(filenames)\r\n",
        "    #dataset = dataset.shuffle(2000)\r\n",
        "    #dataset = dataset.batch(batch_size)\r\n",
        "    return dataset"
      ],
      "execution_count": 12,
      "outputs": []
    },
    {
      "cell_type": "code",
      "metadata": {
        "id": "gPcwTLc5_lg3"
      },
      "source": [
        "train_dataset = get_dataset(train_dataset)"
      ],
      "execution_count": 13,
      "outputs": []
    },
    {
      "cell_type": "code",
      "metadata": {
        "colab": {
          "base_uri": "https://localhost:8080/"
        },
        "id": "bS8PImJO0PVa",
        "outputId": "cda35efc-95b7-482d-d58a-e1a52c38d202"
      },
      "source": [
        "def create_model():\r\n",
        "    \r\n",
        "    n_labels = 11 # number or output classes\r\n",
        "    \r\n",
        "    auc = tf.keras.metrics.AUC(multi_label=True) # metric for multi-class multi-label models\r\n",
        "\r\n",
        "\r\n",
        "    # https://keras.io/api/applications/\r\n",
        "    # Options include: ResNet50, MobileNetV2\r\n",
        "    base_model = tf.keras.applications.ResNet50(\r\n",
        "        input_shape=(300, 300, 3), include_top=False, weights=\"imagenet\"\r\n",
        "    )\r\n",
        "\r\n",
        "    base_model.trainable = True\r\n",
        "\r\n",
        "    inputs = tf.keras.Input(shape=(300, 300, 3))\r\n",
        "    \r\n",
        "    # built-in resnet preprocessor\r\n",
        "    #https://www.tensorflow.org/api_docs/python/tf/keras/applications/resnet/preprocess_input \r\n",
        "    \r\n",
        "    x = base_model(inputs, training=False)\r\n",
        "    \r\n",
        "\r\n",
        "    # Convert features of shape `base_model.output_shape[1:]` to vectors\r\n",
        "    x = tf.keras.layers.GlobalAveragePooling2D()(x)\r\n",
        "    # A Dense classifier with a single unit (binary classification)\r\n",
        "    outputs = tf.keras.layers.Dense(10, activation='sigmoid')(x)\r\n",
        "    model = tf.keras.Model(inputs, outputs)\r\n",
        "\r\n",
        "    model.compile(\r\n",
        "    optimizer=tf.keras.optimizers.Adam(learning_rate=0.001),\r\n",
        "    loss='binary_crossentropy',\r\n",
        "    #loss=custom_loss_fn,  # Custom Code to apply class weights\r\n",
        "    metrics=[auc])\r\n",
        "\r\n",
        "\r\n",
        "    return model\r\n",
        "\r\n",
        "my_model = create_model()\r\n",
        "print('New model created!')\r\n",
        "print()\r\n",
        "print(my_model.summary())\r\n"
      ],
      "execution_count": 17,
      "outputs": [
        {
          "output_type": "stream",
          "text": [
            "New model created!\n",
            "\n",
            "Model: \"model_1\"\n",
            "_________________________________________________________________\n",
            "Layer (type)                 Output Shape              Param #   \n",
            "=================================================================\n",
            "input_4 (InputLayer)         [(None, 300, 300, 3)]     0         \n",
            "_________________________________________________________________\n",
            "resnet50 (Functional)        (None, 10, 10, 2048)      23587712  \n",
            "_________________________________________________________________\n",
            "global_average_pooling2d_1 ( (None, 2048)              0         \n",
            "_________________________________________________________________\n",
            "dense_1 (Dense)              (None, 10)                20490     \n",
            "=================================================================\n",
            "Total params: 23,608,202\n",
            "Trainable params: 23,555,082\n",
            "Non-trainable params: 53,120\n",
            "_________________________________________________________________\n",
            "None\n"
          ],
          "name": "stdout"
        }
      ]
    },
    {
      "cell_type": "code",
      "metadata": {
        "colab": {
          "base_uri": "https://localhost:8080/",
          "height": 391
        },
        "id": "xlca1kY19TXk",
        "outputId": "8815b65f-9f7b-40f9-c527-9d1be53b05d7"
      },
      "source": [
        "history = my_model.fit(\r\n",
        "    train_dataset.batch(64),\r\n",
        "    epochs=100,\r\n",
        "    validation_data=val_dataset.batch(64),\r\n",
        ")"
      ],
      "execution_count": 18,
      "outputs": [
        {
          "output_type": "stream",
          "text": [
            "Epoch 1/100\n",
            "     12/Unknown - 876s 72s/step - loss: 2.5816 - auc_1: 0.4936"
          ],
          "name": "stdout"
        },
        {
          "output_type": "error",
          "ename": "KeyboardInterrupt",
          "evalue": "ignored",
          "traceback": [
            "\u001b[0;31m---------------------------------------------------------------------------\u001b[0m",
            "\u001b[0;31mKeyboardInterrupt\u001b[0m                         Traceback (most recent call last)",
            "\u001b[0;32m<ipython-input-18-268016058e9f>\u001b[0m in \u001b[0;36m<module>\u001b[0;34m()\u001b[0m\n\u001b[1;32m      1\u001b[0m history = my_model.fit(\n\u001b[1;32m      2\u001b[0m     \u001b[0mtrain_dataset\u001b[0m\u001b[0;34m.\u001b[0m\u001b[0mbatch\u001b[0m\u001b[0;34m(\u001b[0m\u001b[0;36m64\u001b[0m\u001b[0;34m)\u001b[0m\u001b[0;34m,\u001b[0m\u001b[0;34m\u001b[0m\u001b[0;34m\u001b[0m\u001b[0m\n\u001b[0;32m----> 3\u001b[0;31m     \u001b[0mepochs\u001b[0m\u001b[0;34m=\u001b[0m\u001b[0;36m100\u001b[0m\u001b[0;34m,\u001b[0m\u001b[0;34m\u001b[0m\u001b[0;34m\u001b[0m\u001b[0m\n\u001b[0m\u001b[1;32m      4\u001b[0m )\n",
            "\u001b[0;32m/usr/local/lib/python3.6/dist-packages/tensorflow/python/keras/engine/training.py\u001b[0m in \u001b[0;36mfit\u001b[0;34m(self, x, y, batch_size, epochs, verbose, callbacks, validation_split, validation_data, shuffle, class_weight, sample_weight, initial_epoch, steps_per_epoch, validation_steps, validation_batch_size, validation_freq, max_queue_size, workers, use_multiprocessing)\u001b[0m\n\u001b[1;32m   1098\u001b[0m                 _r=1):\n\u001b[1;32m   1099\u001b[0m               \u001b[0mcallbacks\u001b[0m\u001b[0;34m.\u001b[0m\u001b[0mon_train_batch_begin\u001b[0m\u001b[0;34m(\u001b[0m\u001b[0mstep\u001b[0m\u001b[0;34m)\u001b[0m\u001b[0;34m\u001b[0m\u001b[0;34m\u001b[0m\u001b[0m\n\u001b[0;32m-> 1100\u001b[0;31m               \u001b[0mtmp_logs\u001b[0m \u001b[0;34m=\u001b[0m \u001b[0mself\u001b[0m\u001b[0;34m.\u001b[0m\u001b[0mtrain_function\u001b[0m\u001b[0;34m(\u001b[0m\u001b[0miterator\u001b[0m\u001b[0;34m)\u001b[0m\u001b[0;34m\u001b[0m\u001b[0;34m\u001b[0m\u001b[0m\n\u001b[0m\u001b[1;32m   1101\u001b[0m               \u001b[0;32mif\u001b[0m \u001b[0mdata_handler\u001b[0m\u001b[0;34m.\u001b[0m\u001b[0mshould_sync\u001b[0m\u001b[0;34m:\u001b[0m\u001b[0;34m\u001b[0m\u001b[0;34m\u001b[0m\u001b[0m\n\u001b[1;32m   1102\u001b[0m                 \u001b[0mcontext\u001b[0m\u001b[0;34m.\u001b[0m\u001b[0masync_wait\u001b[0m\u001b[0;34m(\u001b[0m\u001b[0;34m)\u001b[0m\u001b[0;34m\u001b[0m\u001b[0;34m\u001b[0m\u001b[0m\n",
            "\u001b[0;32m/usr/local/lib/python3.6/dist-packages/tensorflow/python/eager/def_function.py\u001b[0m in \u001b[0;36m__call__\u001b[0;34m(self, *args, **kwds)\u001b[0m\n\u001b[1;32m    826\u001b[0m     \u001b[0mtracing_count\u001b[0m \u001b[0;34m=\u001b[0m \u001b[0mself\u001b[0m\u001b[0;34m.\u001b[0m\u001b[0mexperimental_get_tracing_count\u001b[0m\u001b[0;34m(\u001b[0m\u001b[0;34m)\u001b[0m\u001b[0;34m\u001b[0m\u001b[0;34m\u001b[0m\u001b[0m\n\u001b[1;32m    827\u001b[0m     \u001b[0;32mwith\u001b[0m \u001b[0mtrace\u001b[0m\u001b[0;34m.\u001b[0m\u001b[0mTrace\u001b[0m\u001b[0;34m(\u001b[0m\u001b[0mself\u001b[0m\u001b[0;34m.\u001b[0m\u001b[0m_name\u001b[0m\u001b[0;34m)\u001b[0m \u001b[0;32mas\u001b[0m \u001b[0mtm\u001b[0m\u001b[0;34m:\u001b[0m\u001b[0;34m\u001b[0m\u001b[0;34m\u001b[0m\u001b[0m\n\u001b[0;32m--> 828\u001b[0;31m       \u001b[0mresult\u001b[0m \u001b[0;34m=\u001b[0m \u001b[0mself\u001b[0m\u001b[0;34m.\u001b[0m\u001b[0m_call\u001b[0m\u001b[0;34m(\u001b[0m\u001b[0;34m*\u001b[0m\u001b[0margs\u001b[0m\u001b[0;34m,\u001b[0m \u001b[0;34m**\u001b[0m\u001b[0mkwds\u001b[0m\u001b[0;34m)\u001b[0m\u001b[0;34m\u001b[0m\u001b[0;34m\u001b[0m\u001b[0m\n\u001b[0m\u001b[1;32m    829\u001b[0m       \u001b[0mcompiler\u001b[0m \u001b[0;34m=\u001b[0m \u001b[0;34m\"xla\"\u001b[0m \u001b[0;32mif\u001b[0m \u001b[0mself\u001b[0m\u001b[0;34m.\u001b[0m\u001b[0m_experimental_compile\u001b[0m \u001b[0;32melse\u001b[0m \u001b[0;34m\"nonXla\"\u001b[0m\u001b[0;34m\u001b[0m\u001b[0;34m\u001b[0m\u001b[0m\n\u001b[1;32m    830\u001b[0m       \u001b[0mnew_tracing_count\u001b[0m \u001b[0;34m=\u001b[0m \u001b[0mself\u001b[0m\u001b[0;34m.\u001b[0m\u001b[0mexperimental_get_tracing_count\u001b[0m\u001b[0;34m(\u001b[0m\u001b[0;34m)\u001b[0m\u001b[0;34m\u001b[0m\u001b[0;34m\u001b[0m\u001b[0m\n",
            "\u001b[0;32m/usr/local/lib/python3.6/dist-packages/tensorflow/python/eager/def_function.py\u001b[0m in \u001b[0;36m_call\u001b[0;34m(self, *args, **kwds)\u001b[0m\n\u001b[1;32m    853\u001b[0m       \u001b[0;31m# In this case we have created variables on the first call, so we run the\u001b[0m\u001b[0;34m\u001b[0m\u001b[0;34m\u001b[0m\u001b[0;34m\u001b[0m\u001b[0m\n\u001b[1;32m    854\u001b[0m       \u001b[0;31m# defunned version which is guaranteed to never create variables.\u001b[0m\u001b[0;34m\u001b[0m\u001b[0;34m\u001b[0m\u001b[0;34m\u001b[0m\u001b[0m\n\u001b[0;32m--> 855\u001b[0;31m       \u001b[0;32mreturn\u001b[0m \u001b[0mself\u001b[0m\u001b[0;34m.\u001b[0m\u001b[0m_stateless_fn\u001b[0m\u001b[0;34m(\u001b[0m\u001b[0;34m*\u001b[0m\u001b[0margs\u001b[0m\u001b[0;34m,\u001b[0m \u001b[0;34m**\u001b[0m\u001b[0mkwds\u001b[0m\u001b[0;34m)\u001b[0m  \u001b[0;31m# pylint: disable=not-callable\u001b[0m\u001b[0;34m\u001b[0m\u001b[0;34m\u001b[0m\u001b[0m\n\u001b[0m\u001b[1;32m    856\u001b[0m     \u001b[0;32melif\u001b[0m \u001b[0mself\u001b[0m\u001b[0;34m.\u001b[0m\u001b[0m_stateful_fn\u001b[0m \u001b[0;32mis\u001b[0m \u001b[0;32mnot\u001b[0m \u001b[0;32mNone\u001b[0m\u001b[0;34m:\u001b[0m\u001b[0;34m\u001b[0m\u001b[0;34m\u001b[0m\u001b[0m\n\u001b[1;32m    857\u001b[0m       \u001b[0;31m# Release the lock early so that multiple threads can perform the call\u001b[0m\u001b[0;34m\u001b[0m\u001b[0;34m\u001b[0m\u001b[0;34m\u001b[0m\u001b[0m\n",
            "\u001b[0;32m/usr/local/lib/python3.6/dist-packages/tensorflow/python/eager/function.py\u001b[0m in \u001b[0;36m__call__\u001b[0;34m(self, *args, **kwargs)\u001b[0m\n\u001b[1;32m   2941\u001b[0m        filtered_flat_args) = self._maybe_define_function(args, kwargs)\n\u001b[1;32m   2942\u001b[0m     return graph_function._call_flat(\n\u001b[0;32m-> 2943\u001b[0;31m         filtered_flat_args, captured_inputs=graph_function.captured_inputs)  # pylint: disable=protected-access\n\u001b[0m\u001b[1;32m   2944\u001b[0m \u001b[0;34m\u001b[0m\u001b[0m\n\u001b[1;32m   2945\u001b[0m   \u001b[0;34m@\u001b[0m\u001b[0mproperty\u001b[0m\u001b[0;34m\u001b[0m\u001b[0;34m\u001b[0m\u001b[0m\n",
            "\u001b[0;32m/usr/local/lib/python3.6/dist-packages/tensorflow/python/eager/function.py\u001b[0m in \u001b[0;36m_call_flat\u001b[0;34m(self, args, captured_inputs, cancellation_manager)\u001b[0m\n\u001b[1;32m   1917\u001b[0m       \u001b[0;31m# No tape is watching; skip to running the function.\u001b[0m\u001b[0;34m\u001b[0m\u001b[0;34m\u001b[0m\u001b[0;34m\u001b[0m\u001b[0m\n\u001b[1;32m   1918\u001b[0m       return self._build_call_outputs(self._inference_function.call(\n\u001b[0;32m-> 1919\u001b[0;31m           ctx, args, cancellation_manager=cancellation_manager))\n\u001b[0m\u001b[1;32m   1920\u001b[0m     forward_backward = self._select_forward_and_backward_functions(\n\u001b[1;32m   1921\u001b[0m         \u001b[0margs\u001b[0m\u001b[0;34m,\u001b[0m\u001b[0;34m\u001b[0m\u001b[0;34m\u001b[0m\u001b[0m\n",
            "\u001b[0;32m/usr/local/lib/python3.6/dist-packages/tensorflow/python/eager/function.py\u001b[0m in \u001b[0;36mcall\u001b[0;34m(self, ctx, args, cancellation_manager)\u001b[0m\n\u001b[1;32m    558\u001b[0m               \u001b[0minputs\u001b[0m\u001b[0;34m=\u001b[0m\u001b[0margs\u001b[0m\u001b[0;34m,\u001b[0m\u001b[0;34m\u001b[0m\u001b[0;34m\u001b[0m\u001b[0m\n\u001b[1;32m    559\u001b[0m               \u001b[0mattrs\u001b[0m\u001b[0;34m=\u001b[0m\u001b[0mattrs\u001b[0m\u001b[0;34m,\u001b[0m\u001b[0;34m\u001b[0m\u001b[0;34m\u001b[0m\u001b[0m\n\u001b[0;32m--> 560\u001b[0;31m               ctx=ctx)\n\u001b[0m\u001b[1;32m    561\u001b[0m         \u001b[0;32melse\u001b[0m\u001b[0;34m:\u001b[0m\u001b[0;34m\u001b[0m\u001b[0;34m\u001b[0m\u001b[0m\n\u001b[1;32m    562\u001b[0m           outputs = execute.execute_with_cancellation(\n",
            "\u001b[0;32m/usr/local/lib/python3.6/dist-packages/tensorflow/python/eager/execute.py\u001b[0m in \u001b[0;36mquick_execute\u001b[0;34m(op_name, num_outputs, inputs, attrs, ctx, name)\u001b[0m\n\u001b[1;32m     58\u001b[0m     \u001b[0mctx\u001b[0m\u001b[0;34m.\u001b[0m\u001b[0mensure_initialized\u001b[0m\u001b[0;34m(\u001b[0m\u001b[0;34m)\u001b[0m\u001b[0;34m\u001b[0m\u001b[0;34m\u001b[0m\u001b[0m\n\u001b[1;32m     59\u001b[0m     tensors = pywrap_tfe.TFE_Py_Execute(ctx._handle, device_name, op_name,\n\u001b[0;32m---> 60\u001b[0;31m                                         inputs, attrs, num_outputs)\n\u001b[0m\u001b[1;32m     61\u001b[0m   \u001b[0;32mexcept\u001b[0m \u001b[0mcore\u001b[0m\u001b[0;34m.\u001b[0m\u001b[0m_NotOkStatusException\u001b[0m \u001b[0;32mas\u001b[0m \u001b[0me\u001b[0m\u001b[0;34m:\u001b[0m\u001b[0;34m\u001b[0m\u001b[0;34m\u001b[0m\u001b[0m\n\u001b[1;32m     62\u001b[0m     \u001b[0;32mif\u001b[0m \u001b[0mname\u001b[0m \u001b[0;32mis\u001b[0m \u001b[0;32mnot\u001b[0m \u001b[0;32mNone\u001b[0m\u001b[0;34m:\u001b[0m\u001b[0;34m\u001b[0m\u001b[0;34m\u001b[0m\u001b[0m\n",
            "\u001b[0;31mKeyboardInterrupt\u001b[0m: "
          ]
        }
      ]
    },
    {
      "cell_type": "code",
      "metadata": {
        "id": "rQ1J7Bm8BNZs"
      },
      "source": [
        "inspect = list(train_dataset.take(1).as_numpy_iterator())"
      ],
      "execution_count": null,
      "outputs": []
    },
    {
      "cell_type": "code",
      "metadata": {
        "id": "5mIbPbECBiiq"
      },
      "source": [
        "inspect[0][0].shape"
      ],
      "execution_count": null,
      "outputs": []
    },
    {
      "cell_type": "code",
      "metadata": {
        "id": "0-tPSDsQDm5d"
      },
      "source": [
        "plt.imshow(inspect[0][0].squeeze())"
      ],
      "execution_count": null,
      "outputs": []
    },
    {
      "cell_type": "code",
      "metadata": {
        "id": "wAGGbtiOvWDk"
      },
      "source": [
        ""
      ],
      "execution_count": null,
      "outputs": []
    }
  ]
}