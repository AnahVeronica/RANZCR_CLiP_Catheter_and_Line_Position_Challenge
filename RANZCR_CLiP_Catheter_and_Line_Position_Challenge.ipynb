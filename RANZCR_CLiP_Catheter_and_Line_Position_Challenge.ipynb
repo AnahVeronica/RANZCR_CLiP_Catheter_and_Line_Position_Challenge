{
  "nbformat": 4,
  "nbformat_minor": 0,
  "metadata": {
    "colab": {
      "name": "RANZCR CLiP - Catheter and Line Position Challenge.ipynb",
      "provenance": [],
      "authorship_tag": "ABX9TyOQamMPjIkR/GCxKE8hk/hg",
      "include_colab_link": true
    },
    "kernelspec": {
      "name": "python3",
      "display_name": "Python 3"
    }
  },
  "cells": [
    {
      "cell_type": "markdown",
      "metadata": {
        "id": "view-in-github",
        "colab_type": "text"
      },
      "source": [
        "<a href=\"https://colab.research.google.com/github/AnahVeronica/RANZCR_CLiP_Catheter_and_Line_Position_Challenge/blob/main/RANZCR_CLiP_Catheter_and_Line_Position_Challenge.ipynb\" target=\"_parent\"><img src=\"https://colab.research.google.com/assets/colab-badge.svg\" alt=\"Open In Colab\"/></a>"
      ]
    },
    {
      "cell_type": "code",
      "metadata": {
        "id": "n4G4BgUF72ay"
      },
      "source": [
        "import numpy as np\r\n",
        "import pandas as pd\r\n",
        "import matplotlib.pyplot as plt\r\n",
        "import plotly\r\n",
        "import tensorflow as tf\r\n",
        "import keras"
      ],
      "execution_count": null,
      "outputs": []
    }
  ]
}