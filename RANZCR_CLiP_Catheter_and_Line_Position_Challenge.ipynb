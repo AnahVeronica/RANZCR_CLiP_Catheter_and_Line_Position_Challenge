{
  "nbformat": 4,
  "nbformat_minor": 0,
  "metadata": {
    "colab": {
      "name": "RANZCR CLiP - Catheter and Line Position Challenge.ipynb",
      "provenance": [],
      "collapsed_sections": [],
      "toc_visible": true,
      "authorship_tag": "ABX9TyP6P0BQOFzYD0O/uWWguWT7",
      "include_colab_link": true
    },
    "kernelspec": {
      "display_name": "Python 3",
      "name": "python3"
    },
    "accelerator": "GPU"
  },
  "cells": [
    {
      "cell_type": "markdown",
      "metadata": {
        "id": "view-in-github",
        "colab_type": "text"
      },
      "source": [
        "<a href=\"https://colab.research.google.com/github/AnahVeronica/RANZCR_CLiP_Catheter_and_Line_Position_Challenge/blob/main/RANZCR_CLiP_Catheter_and_Line_Position_Challenge.ipynb\" target=\"_parent\"><img src=\"https://colab.research.google.com/assets/colab-badge.svg\" alt=\"Open In Colab\"/></a>"
      ]
    },
    {
      "cell_type": "markdown",
      "metadata": {
        "id": "Vec9RFC4yT_x"
      },
      "source": [
        "# Import necessary files"
      ]
    },
    {
      "cell_type": "code",
      "metadata": {
        "colab": {
          "base_uri": "https://localhost:8080/"
        },
        "id": "jLzUbWi2br3M",
        "outputId": "31a29965-01bc-46e9-9d29-6f6699114ac3"
      },
      "source": [
        "#Mount drive to access train and test tfrecords\r\n",
        "\r\n",
        "from google.colab import drive\r\n",
        "drive.mount('/content/drive')"
      ],
      "execution_count": 9,
      "outputs": [
        {
          "output_type": "stream",
          "text": [
            "Mounted at /content/drive\n"
          ],
          "name": "stdout"
        }
      ]
    },
    {
      "cell_type": "code",
      "metadata": {
        "id": "pfqYz_HDtXdv"
      },
      "source": [
        "import numpy as np\r\n",
        "import pandas as pd\r\n",
        "import matplotlib.pyplot as plt\r\n",
        "import os\r\n",
        "import io\r\n",
        "from PIL import Image\r\n",
        "import tensorflow as tf\r\n",
        "from IPython import display\r\n",
        "import cv2 as cv"
      ],
      "execution_count": 10,
      "outputs": []
    },
    {
      "cell_type": "code",
      "metadata": {
        "id": "2s5SSnRvveTg"
      },
      "source": [
        "from tensorflow.keras.models import Sequential, Model\r\n",
        "from tensorflow.keras.layers import Dense, Dropout, Flatten, Activation\r\n",
        "from tensorflow.keras.layers import Conv2D, MaxPooling2D\r\n",
        "from tensorflow.keras.optimizers import Adam, SGD\r\n"
      ],
      "execution_count": 11,
      "outputs": []
    },
    {
      "cell_type": "markdown",
      "metadata": {
        "id": "PatPjHyqgK5u"
      },
      "source": [
        "# Step 1: Get dataset from directory"
      ]
    },
    {
      "cell_type": "code",
      "metadata": {
        "id": "6LRxyy-Rgago"
      },
      "source": [
        "Train_folder_path = '/content/drive/MyDrive/train_tfrecords'"
      ],
      "execution_count": 12,
      "outputs": []
    },
    {
      "cell_type": "code",
      "metadata": {
        "id": "tIndK2MyggLY"
      },
      "source": [
        "TFRecord_filenames = []"
      ],
      "execution_count": 13,
      "outputs": []
    },
    {
      "cell_type": "code",
      "metadata": {
        "id": "63VedF8ogms9"
      },
      "source": [
        "for dirpath, dirnames, files in os.walk(Train_folder_path):\r\n",
        "  for filename in files:\r\n",
        "    TFRecord_filenames.append(os.path.join(dirpath, filename))\r\n",
        "\r\n"
      ],
      "execution_count": 14,
      "outputs": []
    },
    {
      "cell_type": "code",
      "metadata": {
        "id": "jNkBDt9fmsIK"
      },
      "source": [
        "dataset_size = 30083\r\n",
        "\r\n",
        "train_size = int(0.8 * dataset_size)\r\n",
        "val_size = int(0.2 * dataset_size)\r\n",
        "\r\n",
        "# Create a training and a validation datasets\r\n",
        "full_dataset = tf.data.TFRecordDataset(TFRecord_filenames)\r\n",
        "full_dataset = full_dataset.shuffle(buffer_size=1000)\r\n",
        "train_dataset = full_dataset.take(train_size) #.cache()\r\n",
        "val_dataset = full_dataset.skip(train_size).take(val_size)"
      ],
      "execution_count": 15,
      "outputs": []
    },
    {
      "cell_type": "markdown",
      "metadata": {
        "id": "l990QXUUydha"
      },
      "source": [
        "#Step 2:Write functions to parse tfrecord"
      ]
    },
    {
      "cell_type": "code",
      "metadata": {
        "id": "0sZvhWrp_nSy"
      },
      "source": [
        "feature_dictionary = {\r\n",
        "    'CVC - Abnormal': tf.io.FixedLenFeature([], tf.int64),\r\n",
        "    'CVC - Borderline': tf.io.FixedLenFeature([], tf.int64),\r\n",
        "    'CVC - Normal': tf.io.FixedLenFeature([], tf.int64),\r\n",
        "    'ETT - Abnormal': tf.io.FixedLenFeature([], tf.int64),\r\n",
        "    'ETT - Borderline': tf.io.FixedLenFeature([], tf.int64),\r\n",
        "    'ETT - Normal': tf.io.FixedLenFeature([], tf.int64),\r\n",
        "    'NGT - Abnormal': tf.io.FixedLenFeature([], tf.int64),\r\n",
        "    'NGT - Borderline': tf.io.FixedLenFeature([], tf.int64),\r\n",
        "    'NGT - Incompletely Imaged': tf.io.FixedLenFeature([], tf.int64),\r\n",
        "    'NGT - Normal': tf.io.FixedLenFeature([], tf.int64),\r\n",
        "    'StudyInstanceUID': tf.io.FixedLenFeature([], tf.string),    \r\n",
        "    'Swan Ganz Catheter Present': tf.io.FixedLenFeature([], tf.int64),\r\n",
        "    'image': tf.io.FixedLenFeature([], tf.string),\r\n",
        "}"
      ],
      "execution_count": 16,
      "outputs": []
    },
    {
      "cell_type": "code",
      "metadata": {
        "id": "vmhELACT_4vb"
      },
      "source": [
        "target_size_dim = 300\r\n",
        "# Define two parsing functions that will turn the TFRecord back into an array and a label        \r\n",
        "def _parse_function(example, feature_dictionary=feature_dictionary):\r\n",
        "    # Parse the input `tf.train.Example` proto using the feature_dictionary.\r\n",
        "    # Create a description of the features.\r\n",
        "    parsed_example = tf.io.parse_example(example, feature_dictionary)\r\n",
        "\r\n",
        "    CVC_Abnormal = tf.cast(parsed_example['CVC - Abnormal'], tf.int64)\r\n",
        "    CVC_Borderline = tf.cast(parsed_example['CVC - Borderline'], tf.int64)\r\n",
        "    CVC_Normal = tf.cast(parsed_example['CVC - Normal'], tf.int64)\r\n",
        "    ETT_Abnormal = tf.cast(parsed_example['ETT - Abnormal'], tf.int64)\r\n",
        "    ETT_Borderline = tf.cast(parsed_example['ETT - Borderline'], tf.int64)\r\n",
        "    ETT_Normal = tf.cast(parsed_example['ETT - Normal'], tf.int64)\r\n",
        "    NGT_Abnormal = tf.cast(parsed_example['NGT - Abnormal'], tf.int64)\r\n",
        "    NGT_Borderline = tf.cast(parsed_example['NGT - Borderline'], tf.int64)\r\n",
        "    NGT_Incompletely_Imaged = tf.cast(parsed_example['NGT - Incompletely Imaged'], tf.int64)\r\n",
        "    NGT_Normal = tf.cast(parsed_example['NGT - Normal'], tf.int64)\r\n",
        "    #Image = tf.cast(parsed_example['image'], tf.string)\r\n",
        "\r\n",
        "\r\n",
        "    features =  tf.io.decode_image(parsed_example['image'], expand_animations = False)\r\n",
        "    features =  tf.image.grayscale_to_rgb(features)\r\n",
        "    features =  tf.image.resize(features,size=(target_size_dim, target_size_dim))\r\n",
        "    #features = features/255\r\n",
        "    #features = features - tf.math.reduce_mean(features, axis= 0)\r\n",
        "\r\n",
        "    labels = [CVC_Abnormal, CVC_Borderline, CVC_Normal, ETT_Abnormal, ETT_Borderline, ETT_Normal, NGT_Abnormal, NGT_Borderline, NGT_Incompletely_Imaged, NGT_Normal]\r\n",
        "    return features, labels\r\n",
        "\r\n"
      ],
      "execution_count": 17,
      "outputs": []
    },
    {
      "cell_type": "code",
      "metadata": {
        "id": "Ug-SXA6gJvZA"
      },
      "source": [
        "def _clahe_preprocess(image, labels):\r\n",
        "  clahe = cv.createCLAHE(clipLimit=15.0, tileGridSize=(8,8))\r\n",
        "  img = image.numpy()\r\n",
        "  img = np.uint8(img)\r\n",
        "  lab = cv.cvtColor(img, cv.COLOR_BGR2LAB)\r\n",
        "  lab_planes = cv.split(lab)\r\n",
        "  lab_planes[0] = clahe.apply(lab_planes[0])\r\n",
        "  lab = cv.merge(lab_planes)\r\n",
        "  img = cv.cvtColor(lab, cv.COLOR_LAB2BGR)\r\n",
        "\r\n",
        "  img = img/255\r\n",
        "  img -= np.mean(img)\r\n",
        "  return img, labels"
      ],
      "execution_count": 18,
      "outputs": []
    },
    {
      "cell_type": "markdown",
      "metadata": {
        "id": "8DlOW6g4yvC0"
      },
      "source": [
        "#Step 3: Create a data loader"
      ]
    },
    {
      "cell_type": "code",
      "metadata": {
        "id": "qGms5M5gzBc8"
      },
      "source": [
        "def data_loader(train_data):\r\n",
        "  dataset = train_data.map(_parse_function)\r\n",
        "  dataset = dataset.map(lambda image,label: tf.py_function(func=_clahe_preprocess,\r\n",
        "                                                      inp=[image,label],\r\n",
        "                                                      Tout=[np.float32,tf.int64]))\r\n",
        "  return dataset"
      ],
      "execution_count": 19,
      "outputs": []
    },
    {
      "cell_type": "markdown",
      "metadata": {
        "id": "GqU48qMbX8yk"
      },
      "source": [
        "# Load data and view image"
      ]
    },
    {
      "cell_type": "code",
      "metadata": {
        "id": "aiYoLUYy25Kj"
      },
      "source": [
        "def get_dataset(filenames):\r\n",
        "    dataset = data_loader(filenames)\r\n",
        "    #dataset = dataset.shuffle(2000)\r\n",
        "    #dataset = dataset.batch(batch_size)\r\n",
        "    return dataset"
      ],
      "execution_count": 20,
      "outputs": []
    },
    {
      "cell_type": "code",
      "metadata": {
        "id": "gPcwTLc5_lg3"
      },
      "source": [
        "train_dataset = get_dataset(train_dataset)"
      ],
      "execution_count": 21,
      "outputs": []
    },
    {
      "cell_type": "code",
      "metadata": {
        "colab": {
          "base_uri": "https://localhost:8080/"
        },
        "id": "bS8PImJO0PVa",
        "outputId": "8c4c422c-0658-4fc1-a0f1-4f287003f239"
      },
      "source": [
        "def create_model():\r\n",
        "    \r\n",
        "    n_labels = 11 # number or output classes\r\n",
        "    \r\n",
        "    auc = tf.keras.metrics.AUC(multi_label=True) # metric for multi-class multi-label models\r\n",
        "\r\n",
        "\r\n",
        "    # https://keras.io/api/applications/\r\n",
        "    # Options include: ResNet50, MobileNetV2\r\n",
        "    base_model = tf.keras.applications.ResNet50(\r\n",
        "        input_shape=(300, 300, 3), include_top=False, weights= None\r\n",
        "    )\r\n",
        "\r\n",
        "    base_model.trainable = True\r\n",
        "\r\n",
        "    inputs = tf.keras.Input(shape=(300, 300, 3))\r\n",
        "    \r\n",
        "    # built-in resnet preprocessor\r\n",
        "    #https://www.tensorflow.org/api_docs/python/tf/keras/applications/resnet/preprocess_input \r\n",
        "    \r\n",
        "    x = base_model(inputs, training=False)\r\n",
        "    \r\n",
        "\r\n",
        "    # Convert features of shape `base_model.output_shape[1:]` to vectors\r\n",
        "    x = tf.keras.layers.GlobalAveragePooling2D()(x)\r\n",
        "    # A Dense classifier with a single unit (binary classification)\r\n",
        "    outputs = tf.keras.layers.Dense(10, activation='sigmoid')(x)\r\n",
        "    model = tf.keras.Model(inputs, outputs)\r\n",
        "\r\n",
        "    model.compile(\r\n",
        "    optimizer=tf.keras.optimizers.Adam(learning_rate=0.001),\r\n",
        "    loss='binary_crossentropy',\r\n",
        "    #loss=custom_loss_fn,  # Custom Code to apply class weights\r\n",
        "    metrics=[auc])\r\n",
        "\r\n",
        "\r\n",
        "    return model\r\n",
        "\r\n",
        "my_model = create_model()\r\n",
        "print('New model created!')\r\n",
        "print()\r\n",
        "print(my_model.summary())\r\n"
      ],
      "execution_count": 25,
      "outputs": [
        {
          "output_type": "stream",
          "text": [
            "New model created!\n",
            "\n",
            "Model: \"model_1\"\n",
            "_________________________________________________________________\n",
            "Layer (type)                 Output Shape              Param #   \n",
            "=================================================================\n",
            "input_4 (InputLayer)         [(None, 300, 300, 3)]     0         \n",
            "_________________________________________________________________\n",
            "resnet50 (Functional)        (None, 10, 10, 2048)      23587712  \n",
            "_________________________________________________________________\n",
            "global_average_pooling2d_1 ( (None, 2048)              0         \n",
            "_________________________________________________________________\n",
            "dense_1 (Dense)              (None, 10)                20490     \n",
            "=================================================================\n",
            "Total params: 23,608,202\n",
            "Trainable params: 23,555,082\n",
            "Non-trainable params: 53,120\n",
            "_________________________________________________________________\n",
            "None\n"
          ],
          "name": "stdout"
        }
      ]
    },
    {
      "cell_type": "code",
      "metadata": {
        "colab": {
          "base_uri": "https://localhost:8080/"
        },
        "id": "xlca1kY19TXk",
        "outputId": "4d530ce6-7730-45bb-a49f-0c33c86f50ce"
      },
      "source": [
        "history = my_model.fit(\r\n",
        "    train_dataset.batch(64),\r\n",
        "    epochs=5,\r\n",
        ")"
      ],
      "execution_count": 26,
      "outputs": [
        {
          "output_type": "stream",
          "text": [
            "Epoch 1/5\n",
            "377/377 [==============================] - 470s 1s/step - loss: 0.3039 - auc_1: 0.6208\n",
            "Epoch 2/5\n",
            "377/377 [==============================] - 458s 1s/step - loss: 0.2870 - auc_1: 0.6192\n",
            "Epoch 3/5\n",
            "377/377 [==============================] - 453s 1s/step - loss: 0.2878 - auc_1: 0.6127\n",
            "Epoch 4/5\n",
            "377/377 [==============================] - 452s 1s/step - loss: 0.2889 - auc_1: 0.6153\n",
            "Epoch 5/5\n",
            "377/377 [==============================] - 452s 1s/step - loss: 0.2886 - auc_1: 0.6205\n"
          ],
          "name": "stdout"
        }
      ]
    },
    {
      "cell_type": "code",
      "metadata": {
        "id": "rQ1J7Bm8BNZs"
      },
      "source": [
        "inspect = list(train_dataset.take(1).as_numpy_iterator())"
      ],
      "execution_count": null,
      "outputs": []
    },
    {
      "cell_type": "code",
      "metadata": {
        "id": "5mIbPbECBiiq"
      },
      "source": [
        "inspect[0][0].shape"
      ],
      "execution_count": null,
      "outputs": []
    },
    {
      "cell_type": "code",
      "metadata": {
        "id": "0-tPSDsQDm5d"
      },
      "source": [
        "plt.imshow(inspect[0][0].squeeze())"
      ],
      "execution_count": null,
      "outputs": []
    },
    {
      "cell_type": "code",
      "metadata": {
        "id": "wAGGbtiOvWDk"
      },
      "source": [
        ""
      ],
      "execution_count": null,
      "outputs": []
    }
  ]
}