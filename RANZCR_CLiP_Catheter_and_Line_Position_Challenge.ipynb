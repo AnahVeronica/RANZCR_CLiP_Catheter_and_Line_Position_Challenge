{
  "nbformat": 4,
  "nbformat_minor": 0,
  "metadata": {
    "colab": {
      "name": "RANZCR CLiP - Catheter and Line Position Challenge.ipynb",
      "provenance": [],
      "collapsed_sections": [],
      "toc_visible": true,
      "authorship_tag": "ABX9TyMsOzo151yJ/Extt5WQM7al",
      "include_colab_link": true
    },
    "kernelspec": {
      "display_name": "Python 3",
      "name": "python3"
    }
  },
  "cells": [
    {
      "cell_type": "markdown",
      "metadata": {
        "id": "view-in-github",
        "colab_type": "text"
      },
      "source": [
        "<a href=\"https://colab.research.google.com/github/AnahVeronica/RANZCR_CLiP_Catheter_and_Line_Position_Challenge/blob/main/RANZCR_CLiP_Catheter_and_Line_Position_Challenge.ipynb\" target=\"_parent\"><img src=\"https://colab.research.google.com/assets/colab-badge.svg\" alt=\"Open In Colab\"/></a>"
      ]
    },
    {
      "cell_type": "markdown",
      "metadata": {
        "id": "Vec9RFC4yT_x"
      },
      "source": [
        "# Import necessary files"
      ]
    },
    {
      "cell_type": "code",
      "metadata": {
        "colab": {
          "base_uri": "https://localhost:8080/"
        },
        "id": "jLzUbWi2br3M",
        "outputId": "d3fb90de-4f2b-4067-bec7-9ae8eb7371a2"
      },
      "source": [
        "#Mount drive to access train and test tfrecords\r\n",
        "\r\n",
        "from google.colab import drive\r\n",
        "drive.mount('/content/drive')"
      ],
      "execution_count": 1035,
      "outputs": [
        {
          "output_type": "stream",
          "text": [
            "Drive already mounted at /content/drive; to attempt to forcibly remount, call drive.mount(\"/content/drive\", force_remount=True).\n"
          ],
          "name": "stdout"
        }
      ]
    },
    {
      "cell_type": "code",
      "metadata": {
        "id": "pfqYz_HDtXdv"
      },
      "source": [
        "import numpy as np\r\n",
        "import pandas as pd\r\n",
        "import matplotlib.pyplot as plt\r\n",
        "import os\r\n",
        "import io\r\n",
        "from PIL import Image\r\n",
        "import tensorflow as tf\r\n",
        "from IPython import display\r\n",
        "import cv2 as cv"
      ],
      "execution_count": 1036,
      "outputs": []
    },
    {
      "cell_type": "code",
      "metadata": {
        "id": "2s5SSnRvveTg"
      },
      "source": [
        "from tensorflow.keras.models import Sequential, Model\r\n",
        "from tensorflow.keras.layers import Dense, Dropout, Flatten, Activation\r\n",
        "from tensorflow.keras.layers import Conv2D, MaxPooling2D\r\n",
        "from tensorflow.keras.optimizers import Adam, SGD\r\n"
      ],
      "execution_count": 1037,
      "outputs": []
    },
    {
      "cell_type": "markdown",
      "metadata": {
        "id": "PatPjHyqgK5u"
      },
      "source": [
        "# Step 1: Get dataset from directory"
      ]
    },
    {
      "cell_type": "code",
      "metadata": {
        "id": "6LRxyy-Rgago"
      },
      "source": [
        "Train_folder_path = '/content/drive/MyDrive/train_tfrecords'"
      ],
      "execution_count": 1082,
      "outputs": []
    },
    {
      "cell_type": "code",
      "metadata": {
        "id": "tIndK2MyggLY"
      },
      "source": [
        "TFRecord_filenames = []"
      ],
      "execution_count": 1083,
      "outputs": []
    },
    {
      "cell_type": "code",
      "metadata": {
        "id": "63VedF8ogms9"
      },
      "source": [
        "for dirpath, dirnames, files in os.walk(Train_folder_path):\r\n",
        "  for filename in files:\r\n",
        "    TFRecord_filenames.append(os.path.join(dirpath, filename))\r\n",
        "\r\n"
      ],
      "execution_count": 1084,
      "outputs": []
    },
    {
      "cell_type": "code",
      "metadata": {
        "id": "jNkBDt9fmsIK"
      },
      "source": [
        "dataset_size = 30083\r\n",
        "\r\n",
        "train_size = int(0.8 * dataset_size)\r\n",
        "val_size = int(0.2 * dataset_size)\r\n",
        "\r\n",
        "# Create a training and a validation datasets\r\n",
        "full_dataset = tf.data.TFRecordDataset(TFRecord_filenames)\r\n",
        "full_dataset = full_dataset.shuffle(buffer_size=1000)\r\n",
        "train_dataset = full_dataset.take(train_size) #.cache()\r\n",
        "val_dataset = full_dataset.skip(train_size).take(val_size)"
      ],
      "execution_count": 1085,
      "outputs": []
    },
    {
      "cell_type": "markdown",
      "metadata": {
        "id": "l990QXUUydha"
      },
      "source": [
        "#Step 2:Write functions to parse tfrecord"
      ]
    },
    {
      "cell_type": "code",
      "metadata": {
        "id": "0sZvhWrp_nSy"
      },
      "source": [
        "feature_dictionary = {\r\n",
        "    'CVC - Abnormal': tf.io.FixedLenFeature([], tf.int64),\r\n",
        "    'CVC - Borderline': tf.io.FixedLenFeature([], tf.int64),\r\n",
        "    'CVC - Normal': tf.io.FixedLenFeature([], tf.int64),\r\n",
        "    'ETT - Abnormal': tf.io.FixedLenFeature([], tf.int64),\r\n",
        "    'ETT - Borderline': tf.io.FixedLenFeature([], tf.int64),\r\n",
        "    'ETT - Normal': tf.io.FixedLenFeature([], tf.int64),\r\n",
        "    'NGT - Abnormal': tf.io.FixedLenFeature([], tf.int64),\r\n",
        "    'NGT - Borderline': tf.io.FixedLenFeature([], tf.int64),\r\n",
        "    'NGT - Incompletely Imaged': tf.io.FixedLenFeature([], tf.int64),\r\n",
        "    'NGT - Normal': tf.io.FixedLenFeature([], tf.int64),\r\n",
        "    'StudyInstanceUID': tf.io.FixedLenFeature([], tf.string),    \r\n",
        "    'Swan Ganz Catheter Present': tf.io.FixedLenFeature([], tf.int64),\r\n",
        "    'image': tf.io.FixedLenFeature([], tf.string),\r\n",
        "}"
      ],
      "execution_count": 1086,
      "outputs": []
    },
    {
      "cell_type": "code",
      "metadata": {
        "id": "vmhELACT_4vb"
      },
      "source": [
        "target_size_dim = 300\r\n",
        "# Define two parsing functions that will turn the TFRecord back into an array and a label        \r\n",
        "def _parse_function(example, feature_dictionary=feature_dictionary):\r\n",
        "    # Parse the input `tf.train.Example` proto using the feature_dictionary.\r\n",
        "    # Create a description of the features.\r\n",
        "    parsed_example = tf.io.parse_example(example, feature_dictionary)\r\n",
        "\r\n",
        "    CVC_Abnormal = tf.cast(parsed_example['CVC - Abnormal'], tf.int64)\r\n",
        "    CVC_Borderline = tf.cast(parsed_example['CVC - Borderline'], tf.int64)\r\n",
        "    CVC_Normal = tf.cast(parsed_example['CVC - Normal'], tf.int64)\r\n",
        "    ETT_Abnormal = tf.cast(parsed_example['ETT - Abnormal'], tf.int64)\r\n",
        "    ETT_Borderline = tf.cast(parsed_example['ETT - Borderline'], tf.int64)\r\n",
        "    ETT_Normal = tf.cast(parsed_example['ETT - Normal'], tf.int64)\r\n",
        "    NGT_Abnormal = tf.cast(parsed_example['NGT - Abnormal'], tf.int64)\r\n",
        "    NGT_Borderline = tf.cast(parsed_example['NGT - Borderline'], tf.int64)\r\n",
        "    NGT_Incompletely_Imaged = tf.cast(parsed_example['NGT - Incompletely Imaged'], tf.int64)\r\n",
        "    NGT_Normal = tf.cast(parsed_example['NGT - Normal'], tf.int64)\r\n",
        "    #Image = tf.cast(parsed_example['image'], tf.string)\r\n",
        "\r\n",
        "\r\n",
        "    features =  tf.io.decode_image(parsed_example['image'], expand_animations = False)\r\n",
        "    features =  tf.image.grayscale_to_rgb(features)\r\n",
        "    features =  tf.image.resize(features,size=(target_size_dim, target_size_dim))\r\n",
        "    #features = features/255\r\n",
        "    #features = features - tf.math.reduce_mean(features, axis= 0)\r\n",
        "\r\n",
        "    labels = [CVC_Abnormal, CVC_Borderline, CVC_Normal, ETT_Abnormal, ETT_Borderline, ETT_Normal, NGT_Abnormal, NGT_Borderline, NGT_Incompletely_Imaged, NGT_Normal]\r\n",
        "    return features, labels\r\n",
        "\r\n"
      ],
      "execution_count": 1087,
      "outputs": []
    },
    {
      "cell_type": "code",
      "metadata": {
        "id": "Ug-SXA6gJvZA"
      },
      "source": [
        "\r\n",
        "\r\n",
        "def _clahe_preprocess(image, labels):\r\n",
        "  clahe = cv.createCLAHE(clipLimit=15.0, tileGridSize=(8,8))\r\n",
        "  img = image.numpy()\r\n",
        "  img = np.uint8(img)\r\n",
        "  lab = cv.cvtColor(img, cv.COLOR_BGR2LAB)\r\n",
        "  lab_planes = cv.split(lab)\r\n",
        "  lab_planes[0] = clahe.apply(lab_planes[0])\r\n",
        "  lab = cv.merge(lab_planes)\r\n",
        "  img = cv.cvtColor(lab, cv.COLOR_LAB2BGR)\r\n",
        "\r\n",
        "  img = img/255\r\n",
        "  img -= np.mean(img)\r\n",
        "  return img, labels"
      ],
      "execution_count": 1088,
      "outputs": []
    },
    {
      "cell_type": "markdown",
      "metadata": {
        "id": "8DlOW6g4yvC0"
      },
      "source": [
        "#Step 3: Create a data loader"
      ]
    },
    {
      "cell_type": "code",
      "metadata": {
        "id": "qGms5M5gzBc8"
      },
      "source": [
        "def data_loader(train_data):\r\n",
        "  dataset = train_data.map(_parse_function)\r\n",
        "  dataset = dataset.map(lambda image,label: tf.py_function(func=_clahe_preprocess,\r\n",
        "                                                      inp=[image,label],\r\n",
        "                                                      Tout=[np.float32,tf.int64]))\r\n",
        "  return dataset"
      ],
      "execution_count": 1089,
      "outputs": []
    },
    {
      "cell_type": "markdown",
      "metadata": {
        "id": "GqU48qMbX8yk"
      },
      "source": [
        "# Load data and view image"
      ]
    },
    {
      "cell_type": "code",
      "metadata": {
        "id": "aiYoLUYy25Kj"
      },
      "source": [
        "def get_dataset(filenames):\r\n",
        "    dataset = data_loader(filenames)\r\n",
        "    return dataset"
      ],
      "execution_count": 1090,
      "outputs": []
    },
    {
      "cell_type": "code",
      "metadata": {
        "id": "gPcwTLc5_lg3"
      },
      "source": [
        "\r\n",
        "train_dataset = get_dataset(train_dataset)"
      ],
      "execution_count": 1091,
      "outputs": []
    },
    {
      "cell_type": "code",
      "metadata": {
        "id": "rQ1J7Bm8BNZs"
      },
      "source": [
        "inspect = list(train_dataset.take(1).as_numpy_iterator())"
      ],
      "execution_count": 1092,
      "outputs": []
    },
    {
      "cell_type": "code",
      "metadata": {
        "colab": {
          "base_uri": "https://localhost:8080/"
        },
        "id": "5mIbPbECBiiq",
        "outputId": "9cfb6a3e-c1cd-4bc2-83e0-7ca66b3b7cf6"
      },
      "source": [
        "inspect[0][0].shape"
      ],
      "execution_count": 1093,
      "outputs": [
        {
          "output_type": "execute_result",
          "data": {
            "text/plain": [
              "(300, 300, 3)"
            ]
          },
          "metadata": {
            "tags": []
          },
          "execution_count": 1093
        }
      ]
    },
    {
      "cell_type": "code",
      "metadata": {
        "colab": {
          "base_uri": "https://localhost:8080/",
          "height": 303
        },
        "id": "0-tPSDsQDm5d",
        "outputId": "368051b5-434b-45ff-8973-c416d89fb727"
      },
      "source": [
        "plt.imshow(inspect[0][0].squeeze())"
      ],
      "execution_count": 1094,
      "outputs": [
        {
          "output_type": "stream",
          "text": [
            "Clipping input data to the valid range for imshow with RGB data ([0..1] for floats or [0..255] for integers).\n"
          ],
          "name": "stderr"
        },
        {
          "output_type": "execute_result",
          "data": {
            "text/plain": [
              "<matplotlib.image.AxesImage at 0x7f83d1b23860>"
            ]
          },
          "metadata": {
            "tags": []
          },
          "execution_count": 1094
        },
        {
          "output_type": "display_data",
          "data": {
            "image/png": "[encoded data removed]",
            "text/plain": [
              "<Figure size 432x288 with 1 Axes>"
            ]
          },
          "metadata": {
            "tags": [],
            "needs_background": "light"
          }
        }
      ]
    },
    {
      "cell_type": "code",
      "metadata": {
        "id": "wAGGbtiOvWDk"
      },
      "source": [
        ""
      ],
      "execution_count": 1075,
      "outputs": []
    }
  ]
}